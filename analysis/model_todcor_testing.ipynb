{
 "cells": [
  {
   "cell_type": "code",
   "id": "initial_id",
   "metadata": {
    "collapsed": true,
    "ExecuteTime": {
     "end_time": "2025-09-08T04:39:53.240014Z",
     "start_time": "2025-09-08T04:39:50.135118Z"
    }
   },
   "source": [
    "import copy\n",
    "import astropy.units as u\n",
    "import matplotlib.pyplot as plt\n",
    "import numpy as np\n",
    "from specutils.manipulation import FluxConservingResampler\n",
    "from pytodcor.model.load_model import load_model\n",
    "from pytodcor.xcor.todcor import todcor\n",
    "from pytodcor.lib.spectrum import PytodcorSpectrum\n",
    "from matplotlib import cm\n",
    "from scipy.signal import find_peaks\n",
    "from astropy.constants import c #speed of light for doppler\n",
    "import time"
   ],
   "outputs": [],
   "execution_count": 1
  },
  {
   "metadata": {},
   "cell_type": "code",
   "outputs": [],
   "execution_count": null,
   "source": [
    "data = []\n",
    "\n",
    "# data - [temp1,temp2,todcor_pixshifts,vel_per_pix,todcor_vals,todcor_alphas]\n",
    "alltemps = {16000, 3200, 5250, 10500, 5000, 10250, 15500, 4750, 10000, 3600, 4500, 9750, 15000, 4250, 9500, 3100, 4000, 9250, 14500, 9000, 3500, 8750, 14000, 8500, 3000, 8250, 13500, 3900, 8000, 7750, 13000, 3400, 7500, 7250, 12500, 2900, 3800, 7000, 6750, 12000, 3300, 6500, 11750, 6250, 11500, 2800, 6000, 11250, 3700, 5750, 11000, 5500, 10750}\n",
    "for temp1 in [16000]:\n",
    "    start = time.perf_counter()\n",
    "    for temp2 in [3200]:\n",
    "        mod_01 = load_model(\n",
    "        \"bosz\", temp1, 4.5, 0.0,\n",
    "        bosz_root_dir=\"metal_0.0\",\n",
    "        model_wl_min=15000., model_wl_max=17000.\n",
    "        )\n",
    "        mod_02 = load_model(\n",
    "        \"bosz\", temp2, 4.5, 0.0,\n",
    "        bosz_root_dir=\"metal_0.0\",\n",
    "        model_wl_min=15000., model_wl_max=17000.\n",
    "        )\n",
    "        velocity_shift = 70. * u.Unit(\"km/s\")\n",
    "        mod_02_spec_doppler_shifted = copy.deepcopy(mod_02.parts[0])\n",
    "        mod_02_spec_doppler_shifted.shift_spectrum_to(radial_velocity=velocity_shift)\n",
    "        fluxcon = FluxConservingResampler()\n",
    "        mod_02_spec_doppler_shifted_resampled = fluxcon(mod_02_spec_doppler_shifted, mod_01.parts[0].spectral_axis)\n",
    "        obs_spec = mod_01.parts[0] + mod_02_spec_doppler_shifted_resampled\n",
    "        obs_spec = obs_spec / np.nanmax(obs_spec.flux)\n",
    "        obs_spec1 = PytodcorSpectrum(name=\"Case_01_Obs\", air_or_vac=\"vacuum\")\n",
    "        obs_spec1.add_spec_part(obs_spec)\n",
    "\n",
    "        todcor_pixshifts, vel_per_pix, todcor_vals, todcor_alphas = todcor(obs_spec1.parts[0], mod_01.parts[0], mod_02.parts[0], velocity_shift.value , fixed_alpha=None)\n",
    "        datasaved =[temp1,temp2,{\"pix_shifts\" : todcor_pixshifts, \"vel_per_pix\" : vel_per_pix, \"todcor_vals\": todcor_vals, \"todcor_alphas\" : todcor_alphas}]\n",
    "        data.append(datasaved)\n",
    "        print(datasaved)\n",
    "    timetaken = start - time.perf_counter()\n",
    "    print(f\"Time taken: {timetaken}s\")"
   ],
   "id": "ac755864c810aaa9"
  }
 ],
 "metadata": {
  "kernelspec": {
   "display_name": "Python 3",
   "language": "python",
   "name": "python3"
  },
  "language_info": {
   "codemirror_mode": {
    "name": "ipython",
    "version": 2
   },
   "file_extension": ".py",
   "mimetype": "text/x-python",
   "name": "python",
   "nbconvert_exporter": "python",
   "pygments_lexer": "ipython2",
   "version": "2.7.6"
  }
 },
 "nbformat": 4,
 "nbformat_minor": 5
}
