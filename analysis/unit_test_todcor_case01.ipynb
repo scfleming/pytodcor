{
 "cells": [
  {
   "cell_type": "code",
   "execution_count": null,
   "id": "a7e60dd5-547f-4d33-8107-ebf86a9f52f1",
   "metadata": {},
   "outputs": [],
   "source": [
    "import matplotlib.pyplot as plt\n",
    "from matplotlib import cm\n",
    "import numpy as np\n",
    "from astropy import units as u\n",
    "from scipy.stats import norm\n",
    "from specutils.spectra import Spectrum1D\n",
    "from pytodcor.xcor.todcor import todcor\n",
    "from pytodcor.lib.spectrum import Spectrum"
   ]
  },
  {
   "cell_type": "markdown",
   "id": "1b40c434-b9ba-417d-9324-e8f91acd5ae7",
   "metadata": {},
   "source": [
    "This notebook captures unit tests for the `todcor` function. The same tests are defined in a unittest .py file, but the notebook allows for further interactivity and visualization for debugging purposes when needed.\n",
    "\n",
    "Case Parameters:\n",
    "  - Is Observed X-Axis Identical To Templates' X-Axis? TRUE\n",
    "\n",
    "  - Is There No Shift Between Observed Feature and Template Feature? TRUE\n",
    "\n",
    "  - Is There No Difference In Shape Of Observed Feature Height Compared To Template? TRUE\n",
    "\n",
    "  - Is There No Difference in Shape Of Observed Feature Width Compared To Template? TRUE\n",
    "\n",
    "  - Is The Scaling Ratio Between Model Templates Fixed? TRUE\n"
   ]
  },
  {
   "cell_type": "markdown",
   "id": "9ae32272-a510-4f29-b983-fabeb937f0b3",
   "metadata": {},
   "source": [
    "# Case #1:\n",
    "\n",
    "Observed and Template X-Axes are identical so no special considerations for gaps between template and observed wavelength coverage. The features in the observed spectrum and templates are at the same x-axis location, so the algorithm should find no need to apply a shift to match. The height and width of the observed spectral features are identical to the templates, so the algorithm should find exactly two peaks when shifting both models (4 total peaks.) The scaling ratio between the two models is fixed to 1.0."
   ]
  },
  {
   "cell_type": "code",
   "execution_count": null,
   "id": "bb101949-be52-4749-98d6-be5da0094fa8",
   "metadata": {},
   "outputs": [],
   "source": [
    "# Generate the Gaussians to use.\n",
    "gauss_1_peak = 5380.\n",
    "gauss_2_peak = 5420.\n",
    "xvals = np.linspace(5300., 5500., 1000)\n",
    "g1_y = norm.pdf(xvals, gauss_1_peak, 4.)\n",
    "g2_y = norm.pdf(xvals, gauss_2_peak, 4.)\n",
    "\n",
    "obs_y = g1_y + g2_y\n",
    "mod1_y = g1_y\n",
    "mod2_y = g2_y"
   ]
  },
  {
   "cell_type": "code",
   "execution_count": null,
   "id": "b8804213-f92a-4e65-a274-b25ff3c9daad",
   "metadata": {},
   "outputs": [],
   "source": [
    "# Identify how many data points separate the two peaks. This is used later when checking results.\n",
    "n_pix_apart = len(np.where((xvals >= gauss_1_peak) & (xvals <= gauss_2_peak))[0])"
   ]
  },
  {
   "cell_type": "code",
   "execution_count": null,
   "id": "4e5d6349-f3bd-4e34-ab8f-3a2648afba27",
   "metadata": {},
   "outputs": [],
   "source": [
    "# Create Spectrum objects out of the simulated datasets.\n",
    "obs_spec1d = Spectrum1D(flux=obs_y*u.dimensionless_unscaled,\n",
    "                           spectral_axis=xvals*u.angstrom)\n",
    "obs_spec = Spectrum(name=\"Case_01_Obs\", air_or_vac=\"vacuum\")\n",
    "obs_spec.add_spec_part(obs_spec1d)\n",
    "\n",
    "mod1_spec1d = Spectrum1D(flux=mod1_y*u.dimensionless_unscaled,\n",
    "                           spectral_axis=xvals*u.angstrom)\n",
    "mod1_spec = Spectrum(name=\"Case_01_Mod1\", air_or_vac=\"vacuum\")\n",
    "mod1_spec.add_spec_part(mod1_spec1d)\n",
    "\n",
    "mod2_spec1d = Spectrum1D(flux=mod2_y*u.dimensionless_unscaled,\n",
    "                           spectral_axis=xvals*u.angstrom)\n",
    "mod2_spec = Spectrum(name=\"Case_01_Mod2\", air_or_vac=\"vacuum\")\n",
    "mod2_spec.add_spec_part(mod2_spec1d)"
   ]
  },
  {
   "cell_type": "code",
   "execution_count": null,
   "id": "6cd96f43-50a1-4808-98d4-0426b0edcf12",
   "metadata": {},
   "outputs": [],
   "source": [
    "# Visualize the spectrum and templates.\n",
    "fig, (ax1, ax2, ax3) = plt.subplots(3,1)\n",
    "ax1.set_ylim([0., 0.25])\n",
    "ax2.set_ylim([0., 0.25])\n",
    "ax3.set_ylim([0., 0.25])\n",
    "ax1.plot(obs_spec.parts[0].spectral_axis, obs_spec.parts[0].flux, '-ko', label=\"Observed Spectrum\")\n",
    "ax2.plot(mod1_spec.parts[0].spectral_axis, mod1_spec.parts[0].flux, '-bo', label=\"Template 1\")\n",
    "ax3.plot(mod2_spec.parts[0].spectral_axis, mod2_spec.parts[0].flux, '-ro', label=\"Template 2\")\n",
    "fig.suptitle(\"Case 1: Identical X-Axis, Identical Shape, No Template Offsets\")\n",
    "fig.legend(ncols=3, bbox_to_anchor=[0.9, 0.95])\n",
    "plt.show()"
   ]
  },
  {
   "cell_type": "code",
   "execution_count": null,
   "id": "ae2b201c-7773-4ec3-967e-c62e3e8c3999",
   "metadata": {},
   "outputs": [],
   "source": [
    "# Compute the TODCOR result.\n",
    "todcor_pixshifts, vel_per_pix, todcor_vals, todcor_alphas = todcor(obs_spec.parts[0], mod1_spec.parts[0],\n",
    "                                                      mod2_spec.parts[0], 400, fixed_alpha=1.,\n",
    "                                                      vel_range=[-500., 500.])"
   ]
  },
  {
   "cell_type": "code",
   "execution_count": null,
   "id": "efeb7317-0c96-49ea-9c43-10116e7f57c4",
   "metadata": {},
   "outputs": [],
   "source": [
    "# Plot the TODCOR values as a projection across the two template shifts.\n",
    "fig, ax = plt.subplots(subplot_kw={\"projection\": \"3d\"})\n",
    "X, Y = np.meshgrid(todcor_pixshifts, todcor_pixshifts, indexing='ij')\n",
    "Z = todcor_vals\n",
    "surf = ax.plot_surface(X, Y, Z, cmap=cm.coolwarm,\n",
    "                       linewidth=0, antialiased=False)\n",
    "\n",
    "ax.set_xlabel(\"Primary Template Shift\")\n",
    "ax.set_ylabel(\"Secondary Template Shift\")\n",
    "fig.colorbar(surf, shrink=0.5, aspect=5)\n",
    "plt.show()\n",
    "\n",
    "# Plot slices along a specified shift of one of the templates.\n",
    "x_fix_shift_1 = 0\n",
    "x_fix_shift_2 = n_pix_apart\n",
    "y_fix_shift_1 = 0\n",
    "y_fix_shift_2 = -1*n_pix_apart\n",
    "\n",
    "where_x1 = np.where(todcor_pixshifts == x_fix_shift_1)[0][0]\n",
    "where_x2 = np.where(todcor_pixshifts == x_fix_shift_2)[0][0]\n",
    "\n",
    "where_y1 = np.where(todcor_pixshifts == y_fix_shift_1)[0][0]\n",
    "where_y2 = np.where(todcor_pixshifts == y_fix_shift_2)[0][0]\n",
    "\n",
    "fig, (ax1, ax2, ax3, ax4) = plt.subplots(4,1, figsize=(6, 12))\n",
    "ax1.plot(todcor_pixshifts, todcor_vals[where_x1, :], '-ko')\n",
    "ax1.set_title(\"Pri. Shift = 0\")\n",
    "ax2.plot(todcor_pixshifts, todcor_vals[where_x2, :], '-ko')\n",
    "ax2.set_title(\"Pri. Shift = 200\")\n",
    "ax3.plot(todcor_pixshifts, todcor_vals[:, where_y1], '-ko')\n",
    "ax3.set_title(\"Sec. Shift = 0\")\n",
    "ax4.plot(todcor_pixshifts, todcor_vals[:, where_y2], '-ko')\n",
    "ax4.set_title(\"Sec. Shift = -200\")\n",
    "fig.tight_layout()\n",
    "plt.show()"
   ]
  },
  {
   "cell_type": "code",
   "execution_count": null,
   "id": "e0a6e9e0-bed8-4c71-b6a7-6be8cd59ea64",
   "metadata": {},
   "outputs": [],
   "source": []
  }
 ],
 "metadata": {
  "kernelspec": {
   "display_name": "Python 3 (ipykernel)",
   "language": "python",
   "name": "python3"
  },
  "language_info": {
   "codemirror_mode": {
    "name": "ipython",
    "version": 3
   },
   "file_extension": ".py",
   "mimetype": "text/x-python",
   "name": "python",
   "nbconvert_exporter": "python",
   "pygments_lexer": "ipython3",
   "version": "3.12.11"
  }
 },
 "nbformat": 4,
 "nbformat_minor": 5
}
