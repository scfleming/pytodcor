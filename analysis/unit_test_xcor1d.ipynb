{
 "cells": [
  {
   "cell_type": "code",
   "execution_count": null,
   "id": "d7726ca7-c56e-4593-9eba-4546caacef9d",
   "metadata": {},
   "outputs": [],
   "source": [
    "import matplotlib.pyplot as plt\n",
    "import numpy as np\n",
    "from scipy.stats import norm \n",
    "from pytodcor.xcor.xcor1d import xcor1d"
   ]
  },
  {
   "cell_type": "markdown",
   "id": "918574fc-0030-40f2-8b6e-12308d365e11",
   "metadata": {},
   "source": [
    "This notebook captures unit tests for the `xcor1d` function. The same tests are defined in the unittest .py file, but the notebook allows for further interactivity and visualization for debugging purposes when needed."
   ]
  },
  {
   "cell_type": "markdown",
   "id": "bf5f4703-340f-4af0-b9fd-c1c5b34d9ae5",
   "metadata": {},
   "source": [
    "# Case #1: A Gaussian cross-correlated with an identical Gaussian and no shift between them."
   ]
  },
  {
   "cell_type": "code",
   "execution_count": null,
   "id": "b738ed17-c23e-4f7b-bde5-54cf20d1330b",
   "metadata": {},
   "outputs": [],
   "source": [
    "# Generate the Gaussians to use.\n",
    "f1_x = np.arange(100)\n",
    "f1_y = norm.pdf(f1_x, 50., 2.)\n",
    "f2_x = np.arange(100)\n",
    "f2_y = norm.pdf(f1_x, 50., 2.)"
   ]
  },
  {
   "cell_type": "code",
   "execution_count": null,
   "id": "7fceb222-83c7-4f85-bc8f-dfc64380cc1f",
   "metadata": {},
   "outputs": [],
   "source": [
    "# Visualize the Gaussians.\n",
    "fig, (ax1, ax2) = plt.subplots(2,1)\n",
    "ax1.set_ylim([0., 0.25])\n",
    "ax2.set_ylim([0., 0.25])\n",
    "ax1.plot(f1_x, f1_y, '-ko', label=\"Function 1\")\n",
    "ax2.plot(f2_x, f2_y, '-bo', label=\"Function 2\")\n",
    "fig.suptitle(\"Two Gaussians, No Shift\")\n",
    "fig.legend(ncols=2, bbox_to_anchor=[0.7, 0.95])\n",
    "plt.show()"
   ]
  },
  {
   "cell_type": "code",
   "execution_count": null,
   "id": "eb293f12-7a4d-41f4-8b55-60b15c82c451",
   "metadata": {},
   "outputs": [],
   "source": [
    "# Calculate the one-dimensional cross-correlation.\n",
    "corr, lag = xcor1d(f1_y, f2_y)\n",
    "# Find the peak value (without fitting/interpolating between points):\n",
    "peak_ind = np.argmax(corr)\n",
    "peak_val = corr[peak_ind]\n",
    "peak_lag = lag[peak_ind]"
   ]
  },
  {
   "cell_type": "code",
   "execution_count": null,
   "id": "c3342946-1331-4883-aab4-13e2380cd29e",
   "metadata": {},
   "outputs": [],
   "source": [
    "# Plot the cross-correlation results.\n",
    "plt.plot(lag, corr, '-ko')\n",
    "plt.axvline(x=peak_lag, color=\"red\")\n",
    "plt.suptitle(\"Case 1\")\n",
    "plt.title(\"Max correlation at: \" + str(peak_lag) + \" pixels, value = \" + str(peak_val) + \".\")\n",
    "plt.show()"
   ]
  },
  {
   "cell_type": "markdown",
   "id": "0e902e38-c8fb-443e-815a-9e07b87c9e88",
   "metadata": {},
   "source": [
    "# Case #2: A Gaussian cross-correlated with a Gaussian half it's height and no shift between them."
   ]
  },
  {
   "cell_type": "code",
   "execution_count": null,
   "id": "6f9706f2-94c5-4d6b-94eb-7e38b1f15c38",
   "metadata": {},
   "outputs": [],
   "source": [
    "# Generate the Gaussians to use.\n",
    "f1_x = np.arange(100)\n",
    "f1_y = norm.pdf(f1_x, 50., 2.)\n",
    "f2_x = np.arange(100)\n",
    "f2_y = norm.pdf(f1_x, 50., 2.)\n",
    "f2_y *= 0.5"
   ]
  },
  {
   "cell_type": "code",
   "execution_count": null,
   "id": "a1b723c4-cd47-40a6-bbbb-326d54930ff1",
   "metadata": {},
   "outputs": [],
   "source": [
    "# Visualize the Gaussians.\n",
    "fig, (ax1, ax2) = plt.subplots(2,1)\n",
    "ax1.set_ylim([0., 0.25])\n",
    "ax2.set_ylim([0., 0.25])\n",
    "ax1.plot(f1_x, f1_y, '-ko', label=\"Function 1\")\n",
    "ax2.plot(f2_x, f2_y, '-bo', label=\"Function 2\")\n",
    "fig.suptitle(\"Two Gaussians, Different Heights, No Shift\")\n",
    "fig.legend(ncols=2, bbox_to_anchor=[0.7, 0.95])\n",
    "plt.show()"
   ]
  },
  {
   "cell_type": "code",
   "execution_count": null,
   "id": "3e98d39a-8fae-419e-ad51-9afe9c3e6ef1",
   "metadata": {},
   "outputs": [],
   "source": [
    "# Calculate the one-dimensional cross-correlation.\n",
    "corr, lag = xcor1d(f1_y, f2_y)\n",
    "# Find the peak value (without fitting/interpolating between points):\n",
    "peak_ind = np.argmax(corr)\n",
    "peak_val = corr[peak_ind]\n",
    "peak_lag = lag[peak_ind]"
   ]
  },
  {
   "cell_type": "code",
   "execution_count": null,
   "id": "9c19f245-7c63-487c-ba90-563a615327f8",
   "metadata": {},
   "outputs": [],
   "source": [
    "# Plot the cross-correlation results.\n",
    "plt.plot(lag, corr, '-ko')\n",
    "plt.axvline(x=peak_lag, color=\"red\")\n",
    "plt.suptitle(\"Case 2\")\n",
    "plt.title(f\"Max correlation at: {peak_lag} pixels, value = {peak_val:.4f}.\")\n",
    "plt.show()"
   ]
  },
  {
   "cell_type": "markdown",
   "id": "f6ecdc1a-9ba2-47c6-b045-65efeab0c5a6",
   "metadata": {},
   "source": [
    "# Case #3: A Gaussian cross-correlated with an identical Gaussian with a shift between them."
   ]
  },
  {
   "cell_type": "code",
   "execution_count": null,
   "id": "8af26c60-5bea-4d23-bc13-d05538d7e6b5",
   "metadata": {},
   "outputs": [],
   "source": [
    "# Generate the Gaussians to use.\n",
    "f1_x = np.arange(100)\n",
    "f1_y = norm.pdf(f1_x, 30., 2.)\n",
    "f2_x = np.arange(100)\n",
    "f2_y = norm.pdf(f1_x, 60., 2.)"
   ]
  },
  {
   "cell_type": "code",
   "execution_count": null,
   "id": "3a380932-373c-4853-9140-78c23f77994d",
   "metadata": {},
   "outputs": [],
   "source": [
    "# Visualize the Gaussians.\n",
    "fig, (ax1, ax2) = plt.subplots(2,1)\n",
    "ax1.set_ylim([0., 0.25])\n",
    "ax2.set_ylim([0., 0.25])\n",
    "ax1.plot(f1_x, f1_y, '-ko', label=\"Function 1\")\n",
    "ax2.plot(f2_x, f2_y, '-bo', label=\"Function 2\")\n",
    "fig.suptitle(\"Two Gaussians, With Shift\")\n",
    "fig.legend(ncols=2, bbox_to_anchor=[0.7, 0.95])\n",
    "plt.show()"
   ]
  },
  {
   "cell_type": "code",
   "execution_count": null,
   "id": "2aa724e6-0729-463f-b986-f0942d3b7e37",
   "metadata": {},
   "outputs": [],
   "source": [
    "# Calculate the one-dimensional cross-correlation.\n",
    "corr, lag = xcor1d(f1_y, f2_y)\n",
    "# Find the peak value (without fitting/interpolating between points):\n",
    "peak_ind = np.argmax(corr)\n",
    "peak_val = corr[peak_ind]\n",
    "peak_lag = lag[peak_ind]"
   ]
  },
  {
   "cell_type": "code",
   "execution_count": null,
   "id": "1759fb37-c8af-4693-9eb2-68bde778231f",
   "metadata": {},
   "outputs": [],
   "source": [
    "# Plot the cross-correlation results.\n",
    "plt.plot(lag, corr, '-ko')\n",
    "plt.axvline(x=peak_lag, color=\"red\")\n",
    "plt.suptitle(\"Case 3\")\n",
    "plt.title(f\"Max correlation at: {peak_lag} pixels, value = {peak_val:.4f}.\")\n",
    "plt.show()"
   ]
  },
  {
   "cell_type": "markdown",
   "id": "7ee2f44b-62ff-42a5-9d23-785f380ee821",
   "metadata": {},
   "source": [
    "# Case #4: A double-peak Gaussian cross-correlated with an identical Gaussian with a shift between them."
   ]
  },
  {
   "cell_type": "code",
   "execution_count": null,
   "id": "99609ec1-6bea-430b-bd46-2d76a0d52ecf",
   "metadata": {},
   "outputs": [],
   "source": [
    "# Generate the Gaussians to use.\n",
    "f1_x = np.arange(100)\n",
    "f1_y = norm.pdf(f1_x, 30., 2.)\n",
    "f2_x = np.arange(100)\n",
    "f2_y = norm.pdf(f1_x, 60., 2.)\n",
    "f1_y += f2_y"
   ]
  },
  {
   "cell_type": "code",
   "execution_count": null,
   "id": "e7fb6f7d-df08-4af0-a299-6d802fc07da6",
   "metadata": {},
   "outputs": [],
   "source": [
    "# Visualize the Gaussians.\n",
    "fig, (ax1, ax2) = plt.subplots(2,1)\n",
    "ax1.set_ylim([0., 0.25])\n",
    "ax2.set_ylim([0., 0.25])\n",
    "ax1.plot(f1_x, f1_y, '-ko', label=\"Function 1\")\n",
    "ax2.plot(f2_x, f2_y, '-bo', label=\"Function 2\")\n",
    "fig.suptitle(\"Two Gaussians, With Shift\")\n",
    "fig.legend(ncols=2, bbox_to_anchor=[0.7, 0.95])\n",
    "plt.show()"
   ]
  },
  {
   "cell_type": "code",
   "execution_count": null,
   "id": "bc7c3ee8-872f-494f-906c-ead08eab1fb6",
   "metadata": {},
   "outputs": [],
   "source": [
    "# Calculate the one-dimensional cross-correlation.\n",
    "corr, lag = xcor1d(f1_y, f2_y)\n",
    "# Find the peak values (without fitting/interpolating between points):\n",
    "corr_sort_ind = np.flip(np.argsort(corr))\n",
    "peak_val, peak_val_2 = corr[corr_sort_ind[0:2]]\n",
    "peak_lag, peak_lag_2 = lag[corr_sort_ind[0:2]]\n",
    "\n",
    "print(\"Two strongest peak values: \" + str(peak_val) + \" and \" + str(peak_val_2))\n",
    "print(\"Lags of the two strongest peak values: \" + str(peak_lag) + \" and \" + str(peak_lag_2))"
   ]
  },
  {
   "cell_type": "code",
   "execution_count": null,
   "id": "e02fef11-1005-404f-bfc3-350f25877d80",
   "metadata": {},
   "outputs": [],
   "source": [
    "# Plot the cross-correlation results.\n",
    "plt.plot(lag, corr, '-ko')\n",
    "plt.axvline(x=peak_lag, color=\"red\")\n",
    "plt.axvline(x=peak_lag_2, color=\"blue\")\n",
    "plt.suptitle(\"Case 4\")\n",
    "plt.title(f\"Max correlation at: {peak_lag} and {peak_lag_2} pixels, values = {peak_val:.4f} and {peak_val_2:.4f}.\")\n",
    "plt.show()"
   ]
  },
  {
   "cell_type": "code",
   "execution_count": null,
   "id": "4cec480e-849b-417c-8216-fa82bb3f4423",
   "metadata": {},
   "outputs": [],
   "source": []
  }
 ],
 "metadata": {
  "kernelspec": {
   "display_name": "Python 3 (ipykernel)",
   "language": "python",
   "name": "python3"
  },
  "language_info": {
   "codemirror_mode": {
    "name": "ipython",
    "version": 3
   },
   "file_extension": ".py",
   "mimetype": "text/x-python",
   "name": "python",
   "nbconvert_exporter": "python",
   "pygments_lexer": "ipython3",
   "version": "3.12.11"
  }
 },
 "nbformat": 4,
 "nbformat_minor": 5
}
